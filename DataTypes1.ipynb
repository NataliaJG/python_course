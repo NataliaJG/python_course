{
  "nbformat": 4,
  "nbformat_minor": 0,
  "metadata": {
    "colab": {
      "name": "DataTypes1.ipynb",
      "provenance": [],
      "collapsed_sections": [],
      "include_colab_link": true
    },
    "kernelspec": {
      "name": "python3",
      "display_name": "Python 3"
    }
  },
  "cells": [
    {
      "cell_type": "markdown",
      "metadata": {
        "id": "view-in-github",
        "colab_type": "text"
      },
      "source": [
        "<a href=\"https://colab.research.google.com/github/NataliaJG/python_course/blob/main/DataTypes1.ipynb\" target=\"_parent\"><img src=\"https://colab.research.google.com/assets/colab-badge.svg\" alt=\"Open In Colab\"/></a>"
      ]
    },
    {
      "cell_type": "markdown",
      "metadata": {
        "id": "hfYzBHsYgy0C"
      },
      "source": [
        "# Data types and Variables\n",
        "---\n",
        "\n",
        "\n",
        "**Recap**: Variables can store data of different types.  \n",
        "*   **int** (whole numbers, e.g. 4, 523, 1984)  \n",
        "*   **float** (decimal numbers e.g. 4.3, )  \n",
        "*   **str** (strings of characters)  \n",
        "*   **bool** (True or False)  \n",
        "\n",
        "and can be stored in groups (**lists, tuples, dictionaries,** etc)\n",
        "\n",
        "You can '**assign**' a value to a variable using the **=** sign.\n",
        "\n",
        "Once a variable has been assigned a value it will decide what type it is from that value. For example:  \n",
        "firstname = “Monty”  \n",
        "age = 20  \n",
        "\n",
        "*firstname* is now a *str* variable (a string of characters) *age* is now an *int* variable (a whole number)  \n",
        "\n",
        "Once a variable knows its type you will only be able to use it for processes that are relevant to that type. For example, you won't be able to add firstname and age together because firstname is a word and age is a number. You would, however, be able to add 1 to the age  \n",
        "\n",
        "age = age + 1  \n",
        "\n",
        "age is now 1 bigger than it was before\n"
      ]
    },
    {
      "cell_type": "markdown",
      "metadata": {
        "id": "bUfEgyAJBgxX"
      },
      "source": [
        "## Using variables of different types and functions\n",
        "----\n",
        "### Exercise 1\n",
        "The cell below contains a function. Functions are named sets of instructions that do one particular thing, often creating a new set of data but sometimes just setting something up.  \n",
        "\n",
        "A function starts with the keyword def (short for define or definition). All instructions below the definition are indented and this indicates that they are part of that function. A function runs when its name is used outside the function (here it is not indented). The indentation is important, note where the code is and isn't indented.  \n",
        "\n",
        "*  create a variable called **name** and assign it a value (any name)  \n",
        "*  print the message “Hello” name  \n",
        "*  change the value of `name` and run the code again to get a new message"
      ]
    },
    {
      "cell_type": "code",
      "metadata": {
        "id": "4oPwx_yTf-yt",
        "colab": {
          "base_uri": "https://localhost:8080/"
        },
        "outputId": "2f378bc0-f4b7-482c-cd38-0a5f69764394"
      },
      "source": [
        "def print_welcome():\n",
        "   # create the variable called name below here (indented like this line) and add the instruction print(\"Hello\",name)\n",
        "   name = \"Jamie\"\n",
        "   print (\"Hello\", name)\n",
        "  \n",
        "  \n",
        "  \n",
        "print_welcome()"
      ],
      "execution_count": 2,
      "outputs": [
        {
          "output_type": "stream",
          "name": "stdout",
          "text": [
            "Hello Jamie\n"
          ]
        }
      ]
    },
    {
      "cell_type": "markdown",
      "metadata": {
        "id": "apeD48hhB1Ns"
      },
      "source": [
        "----\n",
        "### Exercise 2\n",
        "*  create two variables **num1** and **num2** and assign them each a whole number  \n",
        "*  create a third variable **total** which will store the sum of num1 + num2  \n",
        "*  run the code.  \n",
        "\n",
        "Change the value of one of the numbers and run the code again to get new messages and a new total."
      ]
    },
    {
      "cell_type": "code",
      "metadata": {
        "id": "T6WtdKMiCGh-",
        "colab": {
          "base_uri": "https://localhost:8080/"
        },
        "outputId": "29173269-95ad-4a8a-b7b3-342476746a52"
      },
      "source": [
        "def print_total():\n",
        "  # add your code below here\n",
        "  num1 = 215\n",
        "  num2 = 654\n",
        "  total = num1 + num2\n",
        "  \n",
        "  \n",
        "  print(num1, \"+\", num2, \"=\", total)\n",
        "\n",
        "print_total()"
      ],
      "execution_count": 4,
      "outputs": [
        {
          "output_type": "stream",
          "name": "stdout",
          "text": [
            "215 + 654 = 869\n"
          ]
        }
      ]
    },
    {
      "cell_type": "markdown",
      "metadata": {
        "id": "Vc435xArCR41"
      },
      "source": [
        "---\n",
        "### Exercise 3 - variables of different types\n",
        "*  create a variable called **name** and assign it the value \"Billy\"  \n",
        "*  create a variable called **age** and assign it the value 18  \n",
        "*  print a message \"Hello `name` you are `age` years old\" \n",
        "\n",
        "Test input:  \n",
        "Billy  \n",
        "18  \n",
        "\n",
        "Expected output:  \n",
        "Hello Billy you are 18 years old"
      ]
    },
    {
      "cell_type": "code",
      "metadata": {
        "id": "EmO5dR9nCYpE",
        "colab": {
          "base_uri": "https://localhost:8080/"
        },
        "outputId": "4b10c847-6670-4fac-e491-d59907638002"
      },
      "source": [
        "def print_info():\n",
        "   # add your code below here\n",
        "    name = \"Maggie\"\n",
        "    age = 27\n",
        "    print (\"Hello\" ,name ,\"you are\" , age, \"years old\")  \n",
        "  \n",
        "\n",
        "print_info()"
      ],
      "execution_count": 6,
      "outputs": [
        {
          "output_type": "stream",
          "name": "stdout",
          "text": [
            "Hello Maggie you are 27 years old\n"
          ]
        }
      ]
    },
    {
      "cell_type": "markdown",
      "metadata": {
        "id": "xtPVg1k5CklX"
      },
      "source": [
        "---\n",
        "### Exercise 4 - float variables (and writing your own function)\n",
        "Write a function called **print_price()** which will:  \n",
        "\n",
        "*  create a variable called **product** and assign the value \"Chocolate Bar\"  \n",
        "*  create a variable called **cost** and assign the value 1.39  \n",
        "*  print the message `product`, \"costs\", \"£\", `cost`  \n",
        "\n",
        "Expected output:  \n",
        "Chocolate Bar costs £ 1.39"
      ]
    },
    {
      "cell_type": "code",
      "metadata": {
        "id": "uUqY-_PbCsfN",
        "colab": {
          "base_uri": "https://localhost:8080/"
        },
        "outputId": "2ed9bf67-c416-4f0f-bd9e-10fa89e76b6d"
      },
      "source": [
        "def print_price():\n",
        "  product = \"Chocolate bar\"\n",
        "  cost = 1.39\n",
        "  print (product, \"costs\", \"£\", cost)\n",
        "print_price()\n"
      ],
      "execution_count": 8,
      "outputs": [
        {
          "output_type": "stream",
          "name": "stdout",
          "text": [
            "Chocolate bar costs £ 1.39\n"
          ]
        }
      ]
    },
    {
      "cell_type": "markdown",
      "metadata": {
        "id": "HXK-Dn_eCtDN"
      },
      "source": [
        "---\n",
        "### Exercise 5 - concatenating strings\n",
        "Write a function called **print_full_name()** which will:  \n",
        "\n",
        "*  create variable called **name** and assign it the value \"Monty\"  \n",
        "*  create a variable called **surname** and assign it the value \"Python\"  \n",
        "*  create a variable called **full_name** and assign it the value `name` + \" \" + `surname`  \n",
        "*  print the `full_name`  \n",
        "\n",
        "Expected output:  \n",
        "Monty Python"
      ]
    },
    {
      "cell_type": "code",
      "metadata": {
        "id": "YJeP2teXC0cV",
        "colab": {
          "base_uri": "https://localhost:8080/"
        },
        "outputId": "3456b0bb-ec74-4308-f0b9-8b03ec2a2676"
      },
      "source": [
        "def print_full_name():\n",
        "  name = \"Monty\"\n",
        "  surname = \"Python\"\n",
        "  full_name = name + \" \" + surname\n",
        "  print (full_name)\n",
        "print_full_name()"
      ],
      "execution_count": 10,
      "outputs": [
        {
          "output_type": "stream",
          "name": "stdout",
          "text": [
            "Monty Python\n"
          ]
        }
      ]
    },
    {
      "cell_type": "code",
      "source": [
        ""
      ],
      "metadata": {
        "id": "PyY_D72CAUx6"
      },
      "execution_count": null,
      "outputs": []
    }
  ]
}